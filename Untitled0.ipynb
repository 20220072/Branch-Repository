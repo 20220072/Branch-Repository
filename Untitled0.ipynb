{
  "nbformat": 4,
  "nbformat_minor": 0,
  "metadata": {
    "colab": {
      "provenance": [],
      "authorship_tag": "ABX9TyOjOXu1QbO2Qsrtk26LP0dT",
      "include_colab_link": true
    },
    "kernelspec": {
      "name": "python3",
      "display_name": "Python 3"
    },
    "language_info": {
      "name": "python"
    }
  },
  "cells": [
    {
      "cell_type": "markdown",
      "metadata": {
        "id": "view-in-github",
        "colab_type": "text"
      },
      "source": [
        "<a href=\"https://colab.research.google.com/github/20220072/Branch-Repository/blob/main/Untitled0.ipynb\" target=\"_parent\"><img src=\"https://colab.research.google.com/assets/colab-badge.svg\" alt=\"Open In Colab\"/></a>"
      ]
    },
    {
      "cell_type": "code",
      "execution_count": 9,
      "metadata": {
        "id": "9J8YRXfwrYOl",
        "colab": {
          "base_uri": "https://localhost:8080/"
        },
        "outputId": "49a28fd0-2dfc-4703-c050-b001e13ab177"
      },
      "outputs": [
        {
          "output_type": "stream",
          "name": "stdout",
          "text": [
            "0 0.7281460165977478\n",
            "1000 0.4308055639266968\n",
            "2000 0.34454667568206787\n",
            "3000 0.28937816619873047\n",
            "4000 0.2505419850349426\n",
            "5000 0.22139590978622437\n",
            "6000 0.19853930175304413\n",
            "7000 0.18004155158996582\n",
            "8000 0.16471552848815918\n",
            "9000 0.1517840176820755\n",
            "10000 0.1407129466533661\n",
            "11000 0.13112075626850128\n",
            "12000 0.12272635102272034\n",
            "13000 0.1153169795870781\n",
            "14000 0.10872849822044373\n",
            "15000 0.10283174365758896\n",
            "16000 0.09752365946769714\n",
            "17000 0.09272079169750214\n",
            "18000 0.08835496008396149\n",
            "19000 0.0843694657087326\n",
            "20000 0.08071745932102203\n",
            "21000 0.07735893875360489\n",
            "22000 0.07426060736179352\n",
            "23000 0.07139354944229126\n",
            "24000 0.06873315572738647\n",
            "25000 0.06625847518444061\n",
            "26000 0.06395052373409271\n",
            "27000 0.061793480068445206\n",
            "28000 0.05977330356836319\n",
            "29000 0.057877328246831894\n",
            "30000 0.05609480291604996\n",
            "tensor([[4.4566e-04],\n",
            "        [6.3315e-02],\n",
            "        [6.3316e-02],\n",
            "        [9.1109e-01]])\n",
            "tensor([[False],\n",
            "        [False],\n",
            "        [False],\n",
            "        [ True]])\n"
          ]
        }
      ],
      "source": [
        "import torch\n",
        "import torch.nn as nn\n",
        "\n",
        "device = 'cuda' if torch.cuda.is_available() else 'cpu'\n",
        "\n",
        "X = torch.FloatTensor([\n",
        "    [0,0],\n",
        "    [0,1],\n",
        "    [1,0],\n",
        "    [1,1],\n",
        "]).to(device)\n",
        "\n",
        "Y = torch.FloatTensor([\n",
        "    [0], [0], [0], [1]\n",
        "]).to(device)\n",
        "\n",
        "model = nn.Sequential(\n",
        "    nn.Linear(2, 1, bias = True),\n",
        "    nn.Sigmoid()\n",
        ").to(device)\n",
        "\n",
        "loss_func = torch.nn.BCELoss().to(device)\n",
        "optimizer = torch.optim.SGD(model.parameters(), lr = 0.01)\n",
        "\n",
        "for step in range(20001):\n",
        "    optimizer.zero_grad()\n",
        "\n",
        "    Y_hat = model(X)\n",
        "    loss = loss_func(Y_hat, Y)\n",
        "    loss.backward()\n",
        "    optimizer.step()\n",
        "\n",
        "    if step % 1000 == 0:\n",
        "        print(step, loss.item())\n",
        "\n",
        "with torch.no_grad():\n",
        "    model.eval()\n",
        "    inputs = torch.FloatTensor([\n",
        "        [0,0],\n",
        "        [0,1],\n",
        "        [1,0],\n",
        "        [1,1],\n",
        "    ]).to(device)\n",
        "    outputs = model(inputs)\n",
        "\n",
        "    print(outputs)\n",
        "    print(outputs > 0.5)"
      ]
    }
  ]
}